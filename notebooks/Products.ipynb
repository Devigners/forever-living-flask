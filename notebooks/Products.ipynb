{
 "cells": [
  {
   "cell_type": "code",
   "execution_count": 8,
   "id": "0e2e6936",
   "metadata": {},
   "outputs": [],
   "source": [
    "import pandas as pd\n",
    "import math\n",
    "import json"
   ]
  },
  {
   "cell_type": "code",
   "execution_count": 9,
   "id": "29a00875",
   "metadata": {},
   "outputs": [],
   "source": [
    "country_categoryNames = {'australia': 'aus_categories', 'unitedstates': 'us_categories', 'canada': 'can_categories', 'greatbritain': 'uk_categories'}\n",
    "country_files = {'greatbritain': 'static\\\\web-assets\\\\data\\\\products\\\\forever_products_en_gb.csv', 'unitedstates':'static\\\\web-assets\\\\data\\\\products\\\\forever_products_en_us.csv', 'canada':'static\\\\web-assets\\\\data\\\\products\\\\forever_products_en_ca.csv', 'australia':'static\\\\web-assets\\\\data\\\\products\\\\forever_products_en_au.csv'}\n",
    "country_destCSV = {'greatbritain': 'static\\\\web-assets\\\\data\\\\products\\\\forever_products_en_gb_small.csv', 'unitedstates':'static\\\\web-assets\\\\data\\\\products\\\\forever_products_en_us_small.csv', 'canada':'static\\\\web-assets\\\\data\\\\products\\\\forever_products_en_ca_small.csv', 'australia':'static\\\\web-assets\\\\data\\\\products\\\\forever_products_en_au_small.csv'}\n",
    "results = {}\n",
    "\n",
    "for country in country_files.keys():\n",
    "    products = pd.read_csv(country_files[country])\n",
    "\n",
    "    products.drop_duplicates(inplace=True)\n",
    "\n",
    "    products = products[products[country_categoryNames[country]] != 'All Products']\n",
    "\n",
    "    categories = list(set(products[country_categoryNames[country]].to_list()))\n",
    "\n",
    "    name_categ = {}\n",
    "    for unique_title in list(set(products['post_title'].to_list())):\n",
    "        name_categ[unique_title] = ','.join(products[products['post_title'] == unique_title][country_categoryNames[country]].to_list())\n",
    "\n",
    "    products[country_categoryNames[country]] = products['post_title'].map(name_categ)\n",
    "    products.drop_duplicates(subset='post_title', keep=\"first\", inplace=True)\n",
    "\n",
    "    result = pd.concat([products, products[country_categoryNames[country]].str.get_dummies(sep=',').astype(bool)], axis=1)\n",
    "\n",
    "\n",
    "    for categ in categories:\n",
    "        result[categ] = result[categ].astype(int)\n",
    "\n",
    "    result.drop(columns=[country_categoryNames[country]])\n",
    "\n",
    "    result.to_csv(country_destCSV[country], index=False)\n",
    "    \n",
    "    results[country] = categories"
   ]
  },
  {
   "cell_type": "code",
   "execution_count": 5,
   "id": "47442b3b",
   "metadata": {},
   "outputs": [
    {
     "ename": "FileNotFoundError",
     "evalue": "[Errno 2] No such file or directory: 'static\\\\web-assets\\\\data\\\\products\\\\forever_products_en_gb_utf.csv'",
     "output_type": "error",
     "traceback": [
      "\u001b[1;31m---------------------------------------------------------------------------\u001b[0m",
      "\u001b[1;31mFileNotFoundError\u001b[0m                         Traceback (most recent call last)",
      "Cell \u001b[1;32mIn [5], line 7\u001b[0m\n\u001b[0;32m      4\u001b[0m results \u001b[38;5;241m=\u001b[39m {}\n\u001b[0;32m      6\u001b[0m \u001b[38;5;28;01mfor\u001b[39;00m country \u001b[38;5;129;01min\u001b[39;00m country_files\u001b[38;5;241m.\u001b[39mkeys():\n\u001b[1;32m----> 7\u001b[0m     products \u001b[38;5;241m=\u001b[39m \u001b[43mpd\u001b[49m\u001b[38;5;241;43m.\u001b[39;49m\u001b[43mread_csv\u001b[49m\u001b[43m(\u001b[49m\u001b[43mcountry_files\u001b[49m\u001b[43m[\u001b[49m\u001b[43mcountry\u001b[49m\u001b[43m]\u001b[49m\u001b[43m)\u001b[49m\n\u001b[0;32m      9\u001b[0m     products\u001b[38;5;241m.\u001b[39mdrop_duplicates(inplace\u001b[38;5;241m=\u001b[39m\u001b[38;5;28;01mTrue\u001b[39;00m)\n\u001b[0;32m     11\u001b[0m     products \u001b[38;5;241m=\u001b[39m products[products[country_categoryNames[country]] \u001b[38;5;241m!=\u001b[39m \u001b[38;5;124m'\u001b[39m\u001b[38;5;124mAll Products\u001b[39m\u001b[38;5;124m'\u001b[39m]\n",
      "File \u001b[1;32m~\\Documents\\Fiverr Clients\\Forever Living Website\\forever-living-flask\\venv\\lib\\site-packages\\pandas\\util\\_decorators.py:211\u001b[0m, in \u001b[0;36mdeprecate_kwarg.<locals>._deprecate_kwarg.<locals>.wrapper\u001b[1;34m(*args, **kwargs)\u001b[0m\n\u001b[0;32m    209\u001b[0m     \u001b[38;5;28;01melse\u001b[39;00m:\n\u001b[0;32m    210\u001b[0m         kwargs[new_arg_name] \u001b[38;5;241m=\u001b[39m new_arg_value\n\u001b[1;32m--> 211\u001b[0m \u001b[38;5;28;01mreturn\u001b[39;00m func(\u001b[38;5;241m*\u001b[39margs, \u001b[38;5;241m*\u001b[39m\u001b[38;5;241m*\u001b[39mkwargs)\n",
      "File \u001b[1;32m~\\Documents\\Fiverr Clients\\Forever Living Website\\forever-living-flask\\venv\\lib\\site-packages\\pandas\\util\\_decorators.py:317\u001b[0m, in \u001b[0;36mdeprecate_nonkeyword_arguments.<locals>.decorate.<locals>.wrapper\u001b[1;34m(*args, **kwargs)\u001b[0m\n\u001b[0;32m    311\u001b[0m \u001b[38;5;28;01mif\u001b[39;00m \u001b[38;5;28mlen\u001b[39m(args) \u001b[38;5;241m>\u001b[39m num_allow_args:\n\u001b[0;32m    312\u001b[0m     warnings\u001b[38;5;241m.\u001b[39mwarn(\n\u001b[0;32m    313\u001b[0m         msg\u001b[38;5;241m.\u001b[39mformat(arguments\u001b[38;5;241m=\u001b[39marguments),\n\u001b[0;32m    314\u001b[0m         \u001b[38;5;167;01mFutureWarning\u001b[39;00m,\n\u001b[0;32m    315\u001b[0m         stacklevel\u001b[38;5;241m=\u001b[39mfind_stack_level(inspect\u001b[38;5;241m.\u001b[39mcurrentframe()),\n\u001b[0;32m    316\u001b[0m     )\n\u001b[1;32m--> 317\u001b[0m \u001b[38;5;28;01mreturn\u001b[39;00m func(\u001b[38;5;241m*\u001b[39margs, \u001b[38;5;241m*\u001b[39m\u001b[38;5;241m*\u001b[39mkwargs)\n",
      "File \u001b[1;32m~\\Documents\\Fiverr Clients\\Forever Living Website\\forever-living-flask\\venv\\lib\\site-packages\\pandas\\io\\parsers\\readers.py:950\u001b[0m, in \u001b[0;36mread_csv\u001b[1;34m(filepath_or_buffer, sep, delimiter, header, names, index_col, usecols, squeeze, prefix, mangle_dupe_cols, dtype, engine, converters, true_values, false_values, skipinitialspace, skiprows, skipfooter, nrows, na_values, keep_default_na, na_filter, verbose, skip_blank_lines, parse_dates, infer_datetime_format, keep_date_col, date_parser, dayfirst, cache_dates, iterator, chunksize, compression, thousands, decimal, lineterminator, quotechar, quoting, doublequote, escapechar, comment, encoding, encoding_errors, dialect, error_bad_lines, warn_bad_lines, on_bad_lines, delim_whitespace, low_memory, memory_map, float_precision, storage_options)\u001b[0m\n\u001b[0;32m    935\u001b[0m kwds_defaults \u001b[38;5;241m=\u001b[39m _refine_defaults_read(\n\u001b[0;32m    936\u001b[0m     dialect,\n\u001b[0;32m    937\u001b[0m     delimiter,\n\u001b[1;32m   (...)\u001b[0m\n\u001b[0;32m    946\u001b[0m     defaults\u001b[38;5;241m=\u001b[39m{\u001b[38;5;124m\"\u001b[39m\u001b[38;5;124mdelimiter\u001b[39m\u001b[38;5;124m\"\u001b[39m: \u001b[38;5;124m\"\u001b[39m\u001b[38;5;124m,\u001b[39m\u001b[38;5;124m\"\u001b[39m},\n\u001b[0;32m    947\u001b[0m )\n\u001b[0;32m    948\u001b[0m kwds\u001b[38;5;241m.\u001b[39mupdate(kwds_defaults)\n\u001b[1;32m--> 950\u001b[0m \u001b[38;5;28;01mreturn\u001b[39;00m \u001b[43m_read\u001b[49m\u001b[43m(\u001b[49m\u001b[43mfilepath_or_buffer\u001b[49m\u001b[43m,\u001b[49m\u001b[43m \u001b[49m\u001b[43mkwds\u001b[49m\u001b[43m)\u001b[49m\n",
      "File \u001b[1;32m~\\Documents\\Fiverr Clients\\Forever Living Website\\forever-living-flask\\venv\\lib\\site-packages\\pandas\\io\\parsers\\readers.py:605\u001b[0m, in \u001b[0;36m_read\u001b[1;34m(filepath_or_buffer, kwds)\u001b[0m\n\u001b[0;32m    602\u001b[0m _validate_names(kwds\u001b[38;5;241m.\u001b[39mget(\u001b[38;5;124m\"\u001b[39m\u001b[38;5;124mnames\u001b[39m\u001b[38;5;124m\"\u001b[39m, \u001b[38;5;28;01mNone\u001b[39;00m))\n\u001b[0;32m    604\u001b[0m \u001b[38;5;66;03m# Create the parser.\u001b[39;00m\n\u001b[1;32m--> 605\u001b[0m parser \u001b[38;5;241m=\u001b[39m TextFileReader(filepath_or_buffer, \u001b[38;5;241m*\u001b[39m\u001b[38;5;241m*\u001b[39mkwds)\n\u001b[0;32m    607\u001b[0m \u001b[38;5;28;01mif\u001b[39;00m chunksize \u001b[38;5;129;01mor\u001b[39;00m iterator:\n\u001b[0;32m    608\u001b[0m     \u001b[38;5;28;01mreturn\u001b[39;00m parser\n",
      "File \u001b[1;32m~\\Documents\\Fiverr Clients\\Forever Living Website\\forever-living-flask\\venv\\lib\\site-packages\\pandas\\io\\parsers\\readers.py:1442\u001b[0m, in \u001b[0;36mTextFileReader.__init__\u001b[1;34m(self, f, engine, **kwds)\u001b[0m\n\u001b[0;32m   1439\u001b[0m     \u001b[38;5;28mself\u001b[39m\u001b[38;5;241m.\u001b[39moptions[\u001b[38;5;124m\"\u001b[39m\u001b[38;5;124mhas_index_names\u001b[39m\u001b[38;5;124m\"\u001b[39m] \u001b[38;5;241m=\u001b[39m kwds[\u001b[38;5;124m\"\u001b[39m\u001b[38;5;124mhas_index_names\u001b[39m\u001b[38;5;124m\"\u001b[39m]\n\u001b[0;32m   1441\u001b[0m \u001b[38;5;28mself\u001b[39m\u001b[38;5;241m.\u001b[39mhandles: IOHandles \u001b[38;5;241m|\u001b[39m \u001b[38;5;28;01mNone\u001b[39;00m \u001b[38;5;241m=\u001b[39m \u001b[38;5;28;01mNone\u001b[39;00m\n\u001b[1;32m-> 1442\u001b[0m \u001b[38;5;28mself\u001b[39m\u001b[38;5;241m.\u001b[39m_engine \u001b[38;5;241m=\u001b[39m \u001b[38;5;28;43mself\u001b[39;49m\u001b[38;5;241;43m.\u001b[39;49m\u001b[43m_make_engine\u001b[49m\u001b[43m(\u001b[49m\u001b[43mf\u001b[49m\u001b[43m,\u001b[49m\u001b[43m \u001b[49m\u001b[38;5;28;43mself\u001b[39;49m\u001b[38;5;241;43m.\u001b[39;49m\u001b[43mengine\u001b[49m\u001b[43m)\u001b[49m\n",
      "File \u001b[1;32m~\\Documents\\Fiverr Clients\\Forever Living Website\\forever-living-flask\\venv\\lib\\site-packages\\pandas\\io\\parsers\\readers.py:1729\u001b[0m, in \u001b[0;36mTextFileReader._make_engine\u001b[1;34m(self, f, engine)\u001b[0m\n\u001b[0;32m   1727\u001b[0m     is_text \u001b[38;5;241m=\u001b[39m \u001b[38;5;28;01mFalse\u001b[39;00m\n\u001b[0;32m   1728\u001b[0m     mode \u001b[38;5;241m=\u001b[39m \u001b[38;5;124m\"\u001b[39m\u001b[38;5;124mrb\u001b[39m\u001b[38;5;124m\"\u001b[39m\n\u001b[1;32m-> 1729\u001b[0m \u001b[38;5;28mself\u001b[39m\u001b[38;5;241m.\u001b[39mhandles \u001b[38;5;241m=\u001b[39m \u001b[43mget_handle\u001b[49m\u001b[43m(\u001b[49m\n\u001b[0;32m   1730\u001b[0m \u001b[43m    \u001b[49m\u001b[43mf\u001b[49m\u001b[43m,\u001b[49m\n\u001b[0;32m   1731\u001b[0m \u001b[43m    \u001b[49m\u001b[43mmode\u001b[49m\u001b[43m,\u001b[49m\n\u001b[0;32m   1732\u001b[0m \u001b[43m    \u001b[49m\u001b[43mencoding\u001b[49m\u001b[38;5;241;43m=\u001b[39;49m\u001b[38;5;28;43mself\u001b[39;49m\u001b[38;5;241;43m.\u001b[39;49m\u001b[43moptions\u001b[49m\u001b[38;5;241;43m.\u001b[39;49m\u001b[43mget\u001b[49m\u001b[43m(\u001b[49m\u001b[38;5;124;43m\"\u001b[39;49m\u001b[38;5;124;43mencoding\u001b[39;49m\u001b[38;5;124;43m\"\u001b[39;49m\u001b[43m,\u001b[49m\u001b[43m \u001b[49m\u001b[38;5;28;43;01mNone\u001b[39;49;00m\u001b[43m)\u001b[49m\u001b[43m,\u001b[49m\n\u001b[0;32m   1733\u001b[0m \u001b[43m    \u001b[49m\u001b[43mcompression\u001b[49m\u001b[38;5;241;43m=\u001b[39;49m\u001b[38;5;28;43mself\u001b[39;49m\u001b[38;5;241;43m.\u001b[39;49m\u001b[43moptions\u001b[49m\u001b[38;5;241;43m.\u001b[39;49m\u001b[43mget\u001b[49m\u001b[43m(\u001b[49m\u001b[38;5;124;43m\"\u001b[39;49m\u001b[38;5;124;43mcompression\u001b[39;49m\u001b[38;5;124;43m\"\u001b[39;49m\u001b[43m,\u001b[49m\u001b[43m \u001b[49m\u001b[38;5;28;43;01mNone\u001b[39;49;00m\u001b[43m)\u001b[49m\u001b[43m,\u001b[49m\n\u001b[0;32m   1734\u001b[0m \u001b[43m    \u001b[49m\u001b[43mmemory_map\u001b[49m\u001b[38;5;241;43m=\u001b[39;49m\u001b[38;5;28;43mself\u001b[39;49m\u001b[38;5;241;43m.\u001b[39;49m\u001b[43moptions\u001b[49m\u001b[38;5;241;43m.\u001b[39;49m\u001b[43mget\u001b[49m\u001b[43m(\u001b[49m\u001b[38;5;124;43m\"\u001b[39;49m\u001b[38;5;124;43mmemory_map\u001b[39;49m\u001b[38;5;124;43m\"\u001b[39;49m\u001b[43m,\u001b[49m\u001b[43m \u001b[49m\u001b[38;5;28;43;01mFalse\u001b[39;49;00m\u001b[43m)\u001b[49m\u001b[43m,\u001b[49m\n\u001b[0;32m   1735\u001b[0m \u001b[43m    \u001b[49m\u001b[43mis_text\u001b[49m\u001b[38;5;241;43m=\u001b[39;49m\u001b[43mis_text\u001b[49m\u001b[43m,\u001b[49m\n\u001b[0;32m   1736\u001b[0m \u001b[43m    \u001b[49m\u001b[43merrors\u001b[49m\u001b[38;5;241;43m=\u001b[39;49m\u001b[38;5;28;43mself\u001b[39;49m\u001b[38;5;241;43m.\u001b[39;49m\u001b[43moptions\u001b[49m\u001b[38;5;241;43m.\u001b[39;49m\u001b[43mget\u001b[49m\u001b[43m(\u001b[49m\u001b[38;5;124;43m\"\u001b[39;49m\u001b[38;5;124;43mencoding_errors\u001b[39;49m\u001b[38;5;124;43m\"\u001b[39;49m\u001b[43m,\u001b[49m\u001b[43m \u001b[49m\u001b[38;5;124;43m\"\u001b[39;49m\u001b[38;5;124;43mstrict\u001b[39;49m\u001b[38;5;124;43m\"\u001b[39;49m\u001b[43m)\u001b[49m\u001b[43m,\u001b[49m\n\u001b[0;32m   1737\u001b[0m \u001b[43m    \u001b[49m\u001b[43mstorage_options\u001b[49m\u001b[38;5;241;43m=\u001b[39;49m\u001b[38;5;28;43mself\u001b[39;49m\u001b[38;5;241;43m.\u001b[39;49m\u001b[43moptions\u001b[49m\u001b[38;5;241;43m.\u001b[39;49m\u001b[43mget\u001b[49m\u001b[43m(\u001b[49m\u001b[38;5;124;43m\"\u001b[39;49m\u001b[38;5;124;43mstorage_options\u001b[39;49m\u001b[38;5;124;43m\"\u001b[39;49m\u001b[43m,\u001b[49m\u001b[43m \u001b[49m\u001b[38;5;28;43;01mNone\u001b[39;49;00m\u001b[43m)\u001b[49m\u001b[43m,\u001b[49m\n\u001b[0;32m   1738\u001b[0m \u001b[43m\u001b[49m\u001b[43m)\u001b[49m\n\u001b[0;32m   1739\u001b[0m \u001b[38;5;28;01massert\u001b[39;00m \u001b[38;5;28mself\u001b[39m\u001b[38;5;241m.\u001b[39mhandles \u001b[38;5;129;01mis\u001b[39;00m \u001b[38;5;129;01mnot\u001b[39;00m \u001b[38;5;28;01mNone\u001b[39;00m\n\u001b[0;32m   1740\u001b[0m f \u001b[38;5;241m=\u001b[39m \u001b[38;5;28mself\u001b[39m\u001b[38;5;241m.\u001b[39mhandles\u001b[38;5;241m.\u001b[39mhandle\n",
      "File \u001b[1;32m~\\Documents\\Fiverr Clients\\Forever Living Website\\forever-living-flask\\venv\\lib\\site-packages\\pandas\\io\\common.py:857\u001b[0m, in \u001b[0;36mget_handle\u001b[1;34m(path_or_buf, mode, encoding, compression, memory_map, is_text, errors, storage_options)\u001b[0m\n\u001b[0;32m    852\u001b[0m \u001b[38;5;28;01melif\u001b[39;00m \u001b[38;5;28misinstance\u001b[39m(handle, \u001b[38;5;28mstr\u001b[39m):\n\u001b[0;32m    853\u001b[0m     \u001b[38;5;66;03m# Check whether the filename is to be opened in binary mode.\u001b[39;00m\n\u001b[0;32m    854\u001b[0m     \u001b[38;5;66;03m# Binary mode does not support 'encoding' and 'newline'.\u001b[39;00m\n\u001b[0;32m    855\u001b[0m     \u001b[38;5;28;01mif\u001b[39;00m ioargs\u001b[38;5;241m.\u001b[39mencoding \u001b[38;5;129;01mand\u001b[39;00m \u001b[38;5;124m\"\u001b[39m\u001b[38;5;124mb\u001b[39m\u001b[38;5;124m\"\u001b[39m \u001b[38;5;129;01mnot\u001b[39;00m \u001b[38;5;129;01min\u001b[39;00m ioargs\u001b[38;5;241m.\u001b[39mmode:\n\u001b[0;32m    856\u001b[0m         \u001b[38;5;66;03m# Encoding\u001b[39;00m\n\u001b[1;32m--> 857\u001b[0m         handle \u001b[38;5;241m=\u001b[39m \u001b[38;5;28;43mopen\u001b[39;49m\u001b[43m(\u001b[49m\n\u001b[0;32m    858\u001b[0m \u001b[43m            \u001b[49m\u001b[43mhandle\u001b[49m\u001b[43m,\u001b[49m\n\u001b[0;32m    859\u001b[0m \u001b[43m            \u001b[49m\u001b[43mioargs\u001b[49m\u001b[38;5;241;43m.\u001b[39;49m\u001b[43mmode\u001b[49m\u001b[43m,\u001b[49m\n\u001b[0;32m    860\u001b[0m \u001b[43m            \u001b[49m\u001b[43mencoding\u001b[49m\u001b[38;5;241;43m=\u001b[39;49m\u001b[43mioargs\u001b[49m\u001b[38;5;241;43m.\u001b[39;49m\u001b[43mencoding\u001b[49m\u001b[43m,\u001b[49m\n\u001b[0;32m    861\u001b[0m \u001b[43m            \u001b[49m\u001b[43merrors\u001b[49m\u001b[38;5;241;43m=\u001b[39;49m\u001b[43merrors\u001b[49m\u001b[43m,\u001b[49m\n\u001b[0;32m    862\u001b[0m \u001b[43m            \u001b[49m\u001b[43mnewline\u001b[49m\u001b[38;5;241;43m=\u001b[39;49m\u001b[38;5;124;43m\"\u001b[39;49m\u001b[38;5;124;43m\"\u001b[39;49m\u001b[43m,\u001b[49m\n\u001b[0;32m    863\u001b[0m \u001b[43m        \u001b[49m\u001b[43m)\u001b[49m\n\u001b[0;32m    864\u001b[0m     \u001b[38;5;28;01melse\u001b[39;00m:\n\u001b[0;32m    865\u001b[0m         \u001b[38;5;66;03m# Binary mode\u001b[39;00m\n\u001b[0;32m    866\u001b[0m         handle \u001b[38;5;241m=\u001b[39m \u001b[38;5;28mopen\u001b[39m(handle, ioargs\u001b[38;5;241m.\u001b[39mmode)\n",
      "\u001b[1;31mFileNotFoundError\u001b[0m: [Errno 2] No such file or directory: 'static\\\\web-assets\\\\data\\\\products\\\\forever_products_en_gb_utf.csv'"
     ]
    }
   ],
   "source": [
    "country_categoryNames = {'australia': 'aus_categories', 'unitedstates': 'us_categories', 'canada': 'can_categories', 'greatbritain': 'uk_categories'}\n",
    "country_files = {'greatbritain': 'static\\\\web-assets\\\\data\\\\products\\\\forever_products_en_gb_utf.csv', 'unitedstates':'static\\\\web-assets\\\\data\\\\products\\\\forever_products_en_us_utf.csv', 'canada':'static\\\\web-assets\\\\data\\\\products\\\\forever_products_en_ca_utf.csv', 'australia':'static\\\\web-assets\\\\data\\\\products\\\\forever_products_en_au_utf.csv'}\n",
    "country_destCSV = {'greatbritain': 'static\\\\web-assets\\\\data\\\\products\\\\forever_products_en_gb_small_utf.csv', 'unitedstates':'static\\\\web-assets\\\\data\\\\products\\\\forever_products_en_us_small_utf.csv', 'canada':'static\\\\web-assets\\\\data\\\\products\\\\forever_products_en_ca_small_utf.csv', 'australia':'static\\\\web-assets\\\\data\\\\products\\\\forever_products_en_au_small_utf.csv'}\n",
    "results = {}\n",
    "\n",
    "for country in country_files.keys():\n",
    "    products = pd.read_csv(country_files[country])\n",
    "\n",
    "    products.drop_duplicates(inplace=True)\n",
    "\n",
    "    products = products[products[country_categoryNames[country]] != 'All Products']\n",
    "\n",
    "    categories = list(set(products[country_categoryNames[country]].to_list()))\n",
    "\n",
    "    name_categ = {}\n",
    "    for unique_title in list(set(products['post_title'].to_list())):\n",
    "        name_categ[unique_title] = ','.join(products[products['post_title'] == unique_title][country_categoryNames[country]].to_list())\n",
    "\n",
    "    products[country_categoryNames[country]] = products['post_title'].map(name_categ)\n",
    "    products.drop_duplicates(subset='post_title', keep=\"first\", inplace=True)\n",
    "\n",
    "    result = pd.concat([products, products[country_categoryNames[country]].str.get_dummies(sep=',').astype(bool)], axis=1)\n",
    "\n",
    "\n",
    "    for categ in categories:\n",
    "        result[categ] = result[categ].astype(int)\n",
    "\n",
    "    result.drop(columns=[country_categoryNames[country]])\n",
    "\n",
    "    result.to_csv(country_destCSV[country], index=False)\n",
    "    \n",
    "    results[country] = categories"
   ]
  },
  {
   "cell_type": "code",
   "execution_count": 10,
   "id": "cf2fe5c4",
   "metadata": {},
   "outputs": [],
   "source": [
    "with open('static\\\\web-assets\\\\data\\\\products\\\\categories.json') as json_file:\n",
    "    categ_file = json.load(json_file)"
   ]
  },
  {
   "cell_type": "code",
   "execution_count": 11,
   "id": "886202fe",
   "metadata": {},
   "outputs": [
    {
     "data": {
      "text/plain": [
       "{'greatbritain': ['New Products',\n",
       "  'Personal Care',\n",
       "  'Immune Health',\n",
       "  'Drinks',\n",
       "  'Nutritional',\n",
       "  'Essential Oils',\n",
       "  'Household',\n",
       "  'Skin Care',\n",
       "  'Best Sellers',\n",
       "  'Bee Products',\n",
       "  'Weight Management',\n",
       "  'Accessories'],\n",
       " 'unitedstates': ['New Products',\n",
       "  'Personal Care',\n",
       "  'Holiday Gifts',\n",
       "  'Immune Health',\n",
       "  'Nutritional',\n",
       "  'Essential Oils',\n",
       "  'Bee Products',\n",
       "  'Household',\n",
       "  'Skin Care',\n",
       "  'Best Sellers',\n",
       "  'Drinks',\n",
       "  'Weight Management',\n",
       "  'Combo Paks',\n",
       "  'Accessories'],\n",
       " 'canada': ['New Products',\n",
       "  'Personal Care',\n",
       "  'Immune Health',\n",
       "  'Nutritional',\n",
       "  'Essential Oils',\n",
       "  'Bee Products',\n",
       "  'Household',\n",
       "  'Skin Care',\n",
       "  'Best Sellers',\n",
       "  'Drinks',\n",
       "  'Weight Management',\n",
       "  'Combo Paks',\n",
       "  'Accessories'],\n",
       " 'australia': ['Personal Care',\n",
       "  '24 Day Program',\n",
       "  'Good Digestive Health',\n",
       "  'Nutritional',\n",
       "  'Vegan Range',\n",
       "  'Bee Products',\n",
       "  'Healthy Immune System',\n",
       "  'F.I.T Program',\n",
       "  'Household',\n",
       "  'Starter Paks',\n",
       "  'Skin Care',\n",
       "  'Literature',\n",
       "  'Drinks',\n",
       "  'Weight Management',\n",
       "  'Combo Paks']}"
      ]
     },
     "execution_count": 11,
     "metadata": {},
     "output_type": "execute_result"
    }
   ],
   "source": [
    "results"
   ]
  },
  {
   "cell_type": "code",
   "execution_count": 12,
   "id": "80016676",
   "metadata": {},
   "outputs": [],
   "source": [
    "categ_file['gb'] = results['greatbritain']\n",
    "categ_file['au'] = results['australia']\n",
    "categ_file['us'] = results['unitedstates']\n",
    "categ_file['ca'] = results['canada']"
   ]
  },
  {
   "cell_type": "code",
   "execution_count": 14,
   "id": "c2a4ac3a",
   "metadata": {},
   "outputs": [],
   "source": [
    "import json\n",
    "with open(\"static\\\\web-assets\\\\data\\\\products\\\\categories.json\", \"w\") as outfile:\n",
    "    json.dump(categ_file, outfile)"
   ]
  },
  {
   "cell_type": "code",
   "execution_count": 16,
   "id": "787e4033",
   "metadata": {},
   "outputs": [],
   "source": [
    "country_destCSV = {'greatbritain': 'static\\\\web-assets\\\\data\\\\products\\\\forever_products_en_gb_small.csv', 'unitedstates':'static\\\\web-assets\\\\data\\\\products\\\\forever_products_en_us_small.csv', 'canada':'static\\\\web-assets\\\\data\\\\products\\\\forever_products_en_ca_small.csv', 'australia':'static\\\\web-assets\\\\data\\\\products\\\\forever_products_en_au_small.csv'}\n",
    "for country in country_destCSV.keys():\n",
    "    products = pd.read_csv(country_destCSV[country])\n",
    "    products['Video'] = ''\n",
    "    products.to_csv(country_destCSV[country], index=False)"
   ]
  },
  {
   "cell_type": "code",
   "execution_count": null,
   "id": "e172946b",
   "metadata": {},
   "outputs": [],
   "source": []
  }
 ],
 "metadata": {
  "kernelspec": {
   "display_name": "Python 3 (ipykernel)",
   "language": "python",
   "name": "python3"
  },
  "language_info": {
   "codemirror_mode": {
    "name": "ipython",
    "version": 3
   },
   "file_extension": ".py",
   "mimetype": "text/x-python",
   "name": "python",
   "nbconvert_exporter": "python",
   "pygments_lexer": "ipython3",
   "version": "3.10.8"
  }
 },
 "nbformat": 4,
 "nbformat_minor": 5
}
