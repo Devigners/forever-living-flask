{
 "cells": [
  {
   "cell_type": "code",
   "execution_count": 1,
   "id": "0e2e6936",
   "metadata": {},
   "outputs": [],
   "source": [
    "import pandas as pd\n",
    "import math"
   ]
  },
  {
   "cell_type": "code",
   "execution_count": 26,
   "id": "47442b3b",
   "metadata": {},
   "outputs": [],
   "source": [
    "country_categoryNames = {'australia': 'aus_categories', 'unitedstates': 'us_categories', 'canada': 'can_categories', 'greatbritain': 'uk_categories'}\n",
    "country_files = {'greatbritain': 'static\\\\data\\\\products\\\\forever_products_en_gb.csv', 'unitedstates':'static\\\\data\\\\products\\\\forever_products_en_us.csv', 'canada':'static\\\\data\\\\products\\\\forever_products_en_ca.csv', 'australia':'static\\\\data\\\\products\\\\forever_products_en_au.csv'}\n",
    "country_destCSV = {'greatbritain': 'static\\\\data\\\\products\\\\forever_products_en_gb_small.csv', 'unitedstates':'static\\\\data\\\\products\\\\forever_products_en_us_small.csv', 'canada':'static\\\\data\\\\products\\\\forever_products_en_ca_small.csv', 'australia':'static\\\\data\\\\products\\\\forever_products_en_au_small.csv'}\n",
    "results = {}\n",
    "\n",
    "for country in country_files.keys():\n",
    "    products = pd.read_csv(country_files[country])\n",
    "\n",
    "    products.drop_duplicates(inplace=True)\n",
    "\n",
    "    products = products[products[country_categoryNames[country]] != 'All Products']\n",
    "\n",
    "    categories = list(set(products[country_categoryNames[country]].to_list()))\n",
    "\n",
    "    name_categ = {}\n",
    "    for unique_title in list(set(products['post_title'].to_list())):\n",
    "        name_categ[unique_title] = ','.join(products[products['post_title'] == unique_title][country_categoryNames[country]].to_list())\n",
    "\n",
    "    products[country_categoryNames[country]] = products['post_title'].map(name_categ)\n",
    "    products.drop_duplicates(subset='post_title', keep=\"first\", inplace=True)\n",
    "\n",
    "    result = pd.concat([products, products[country_categoryNames[country]].str.get_dummies(sep=',').astype(bool)], axis=1)\n",
    "\n",
    "\n",
    "    for categ in categories:\n",
    "        result[categ] = result[categ].astype(int)\n",
    "\n",
    "    result.drop(columns=[country_categoryNames[country]])\n",
    "\n",
    "    result.to_csv(country_destCSV[country], index=False)\n",
    "    \n",
    "    results[country] = categories"
   ]
  },
  {
   "cell_type": "code",
   "execution_count": 25,
   "id": "cf2fe5c4",
   "metadata": {},
   "outputs": [],
   "source": [
    "with open('static\\\\data\\\\products\\\\categories.json') as json_file:\n",
    "    categ_file = json.load(json_file)"
   ]
  },
  {
   "cell_type": "code",
   "execution_count": 28,
   "id": "886202fe",
   "metadata": {},
   "outputs": [
    {
     "data": {
      "text/plain": [
       "{'greatbritain': ['Weight Management',\n",
       "  'Household',\n",
       "  'New Products',\n",
       "  'Skin Care',\n",
       "  'Essential Oils',\n",
       "  'Accessories',\n",
       "  'Nutritional',\n",
       "  'Bee Products',\n",
       "  'Best Sellers',\n",
       "  'Personal Care',\n",
       "  'Drinks',\n",
       "  'Immune Health'],\n",
       " 'unitedstates': ['Weight Management',\n",
       "  'Household',\n",
       "  'New Products',\n",
       "  'Skin Care',\n",
       "  'Essential Oils',\n",
       "  'Accessories',\n",
       "  'Nutritional',\n",
       "  'Best Sellers',\n",
       "  'Bee Products',\n",
       "  'Combo Paks',\n",
       "  'Drinks',\n",
       "  'Personal Care',\n",
       "  'Holiday Gifts',\n",
       "  'Immune Health'],\n",
       " 'canada': ['Weight Management',\n",
       "  'Household',\n",
       "  'New Products',\n",
       "  'Skin Care',\n",
       "  'Essential Oils',\n",
       "  'Accessories',\n",
       "  'Nutritional',\n",
       "  'Bee Products',\n",
       "  'Best Sellers',\n",
       "  'Combo Paks',\n",
       "  'Drinks',\n",
       "  'Personal Care',\n",
       "  'Immune Health'],\n",
       " 'australia': ['Household',\n",
       "  'Weight Management',\n",
       "  'F.I.T Program',\n",
       "  'Skin Care',\n",
       "  'Good Digestive Health',\n",
       "  'Literature',\n",
       "  'Nutritional',\n",
       "  '24 Day Program',\n",
       "  'Starter Paks',\n",
       "  'Bee Products',\n",
       "  'Combo Paks',\n",
       "  'Personal Care',\n",
       "  'Drinks',\n",
       "  'Healthy Immune System',\n",
       "  'Vegan Range']}"
      ]
     },
     "execution_count": 28,
     "metadata": {},
     "output_type": "execute_result"
    }
   ],
   "source": [
    "results"
   ]
  },
  {
   "cell_type": "code",
   "execution_count": 29,
   "id": "80016676",
   "metadata": {},
   "outputs": [],
   "source": [
    "categ_file['gb'] = results['greatbritain']\n",
    "categ_file['au'] = results['australia']\n",
    "categ_file['us'] = results['unitedstates']\n",
    "categ_file['ca'] = results['canada']"
   ]
  },
  {
   "cell_type": "code",
   "execution_count": 30,
   "id": "c2a4ac3a",
   "metadata": {},
   "outputs": [],
   "source": [
    "import json\n",
    "with open(\"static\\\\data\\\\products\\\\categories.json\", \"w\") as outfile:\n",
    "    json.dump(categ_file, outfile)"
   ]
  },
  {
   "cell_type": "code",
   "execution_count": 5,
   "id": "787e4033",
   "metadata": {},
   "outputs": [],
   "source": [
    "country_destCSV = {'greatbritain': 'static\\\\data\\\\products\\\\forever_products_en_gb_small.csv', 'unitedstates':'static\\\\data\\\\products\\\\forever_products_en_us_small.csv', 'canada':'static\\\\data\\\\products\\\\forever_products_en_ca_small.csv', 'australia':'static\\\\data\\\\products\\\\forever_products_en_au_small.csv'}\n",
    "for country in country_destCSV.keys():\n",
    "    products = pd.read_csv(country_destCSV[country])\n",
    "    products['Video'] = ''\n",
    "    products.to_csv(country_destCSV[country], index=False)"
   ]
  },
  {
   "cell_type": "code",
   "execution_count": null,
   "id": "e172946b",
   "metadata": {},
   "outputs": [],
   "source": []
  }
 ],
 "metadata": {
  "kernelspec": {
   "display_name": "Python 3 (ipykernel)",
   "language": "python",
   "name": "python3"
  },
  "language_info": {
   "codemirror_mode": {
    "name": "ipython",
    "version": 3
   },
   "file_extension": ".py",
   "mimetype": "text/x-python",
   "name": "python",
   "nbconvert_exporter": "python",
   "pygments_lexer": "ipython3",
   "version": "3.10.8"
  }
 },
 "nbformat": 4,
 "nbformat_minor": 5
}
