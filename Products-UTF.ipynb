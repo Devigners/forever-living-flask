{
 "cells": [
  {
   "cell_type": "code",
   "execution_count": 24,
   "id": "0e2e6936",
   "metadata": {},
   "outputs": [],
   "source": [
    "import pandas as pd\n",
    "import math\n",
    "import json"
   ]
  },
  {
   "cell_type": "code",
   "execution_count": 25,
   "id": "29a00875",
   "metadata": {},
   "outputs": [],
   "source": [
    "country_categoryNames = {'australia': 'austraila_categories', 'unitedstates': 'usa_categories', 'canada': 'canada_categories', 'greatbritain': 'uk_categories'}\n",
    "country_files = {'greatbritain': 'static\\\\web-assets\\\\data\\\\products\\\\forever_products_en_gb_utf.csv', 'unitedstates':'static\\\\web-assets\\\\data\\\\products\\\\forever_products_en_us_utf.csv', 'canada':'static\\\\web-assets\\\\data\\\\products\\\\forever_products_en_ca_utf.csv', 'australia':'static\\\\web-assets\\\\data\\\\products\\\\forever_products_en_au_utf.csv'}\n",
    "country_destCSV = {'greatbritain': 'static\\\\web-assets\\\\data\\\\products\\\\forever_products_en_gb_small_utf.csv', 'unitedstates':'static\\\\web-assets\\\\data\\\\products\\\\forever_products_en_us_small_utf.csv', 'canada':'static\\\\web-assets\\\\data\\\\products\\\\forever_products_en_ca_small_utf.csv', 'australia':'static\\\\web-assets\\\\data\\\\products\\\\forever_products_en_au_small_utf.csv'}\n",
    "results = {}\n",
    "\n",
    "for country in country_files.keys():\n",
    "    try:\n",
    "        products = pd.read_csv(country_files[country])\n",
    "    except:\n",
    "        products = pd.read_csv(country_files[country], encoding = \"ISO-8859-1\")\n",
    "        \n",
    "    products.drop_duplicates(inplace=True)\n",
    "\n",
    "    products = products[products[country_categoryNames[country]] != 'All Products']\n",
    "\n",
    "    categories = list(set(products[country_categoryNames[country]].to_list()))\n",
    "\n",
    "    name_categ = {}\n",
    "    for unique_title in list(set(products['post_title'].to_list())):\n",
    "        name_categ[unique_title] = ','.join(products[products['post_title'] == unique_title][country_categoryNames[country]].to_list())\n",
    "\n",
    "    products[country_categoryNames[country]] = products['post_title'].map(name_categ)\n",
    "    products.drop_duplicates(subset='post_title', keep=\"first\", inplace=True)\n",
    "\n",
    "    result = pd.concat([products, products[country_categoryNames[country]].str.get_dummies(sep=',').astype(bool)], axis=1)\n",
    "\n",
    "\n",
    "    for categ in categories:\n",
    "        result[categ] = result[categ].astype(int)\n",
    "\n",
    "    result.drop(columns=[country_categoryNames[country]])\n",
    "\n",
    "    result.to_csv(country_destCSV[country], index=False)\n",
    "\n",
    "    results[country] = categories"
   ]
  },
  {
   "cell_type": "code",
   "execution_count": null,
   "id": "80f14239",
   "metadata": {},
   "outputs": [],
   "source": []
  },
  {
   "cell_type": "code",
   "execution_count": 29,
   "id": "cf2fe5c4",
   "metadata": {},
   "outputs": [],
   "source": [
    "with open('static\\\\web-assets\\\\data\\\\products\\\\categories_utf.json') as json_file:\n",
    "    categ_file = json.load(json_file)"
   ]
  },
  {
   "cell_type": "code",
   "execution_count": 30,
   "id": "886202fe",
   "metadata": {},
   "outputs": [
    {
     "data": {
      "text/plain": [
       "{'greatbritain': ['Weight Management',\n",
       "  'New Products',\n",
       "  'Immune Health',\n",
       "  'Drinks',\n",
       "  'Personal Care',\n",
       "  'Accessories',\n",
       "  'Nutritional',\n",
       "  'Best Sellers',\n",
       "  'Household',\n",
       "  'Essential Oils',\n",
       "  'Skin Care',\n",
       "  'Bee Products'],\n",
       " 'unitedstates': ['Weight Management',\n",
       "  'New Products',\n",
       "  'Immune Health',\n",
       "  'Holiday Gifts',\n",
       "  'Drinks',\n",
       "  'Personal Care',\n",
       "  'Bee Products',\n",
       "  'Accessories',\n",
       "  'Nutritional',\n",
       "  'Household',\n",
       "  'Combo Paks',\n",
       "  'Essential Oils',\n",
       "  'Skin Care',\n",
       "  'Best Sellers'],\n",
       " 'canada': ['Weight Management',\n",
       "  'New Products',\n",
       "  'Immune Health',\n",
       "  'Drinks',\n",
       "  'Personal Care',\n",
       "  'Accessories',\n",
       "  'Nutritional',\n",
       "  'Household',\n",
       "  'Best Sellers',\n",
       "  'Combo Paks',\n",
       "  'Essential Oils',\n",
       "  'Skin Care',\n",
       "  'Bee Products'],\n",
       " 'australia': ['Healthy Immune System',\n",
       "  'F.I.T Program',\n",
       "  'Weight Management',\n",
       "  'Literature',\n",
       "  '24 Day Program',\n",
       "  'Drinks',\n",
       "  'Good Digestive Health',\n",
       "  'Bee Products',\n",
       "  'Personal Care',\n",
       "  'Household',\n",
       "  'Starter Paks',\n",
       "  'Nutritional',\n",
       "  'Vegan Range',\n",
       "  'Skin Care',\n",
       "  'Combo Paks']}"
      ]
     },
     "execution_count": 30,
     "metadata": {},
     "output_type": "execute_result"
    }
   ],
   "source": [
    "results"
   ]
  },
  {
   "cell_type": "code",
   "execution_count": 31,
   "id": "80016676",
   "metadata": {},
   "outputs": [],
   "source": [
    "categ_file['gb'] = results['greatbritain']\n",
    "categ_file['au'] = results['australia']\n",
    "categ_file['us'] = results['unitedstates']\n",
    "categ_file['ca'] = results['canada']"
   ]
  },
  {
   "cell_type": "code",
   "execution_count": 32,
   "id": "c2a4ac3a",
   "metadata": {},
   "outputs": [],
   "source": [
    "import json\n",
    "with open(\"static\\\\web-assets\\\\data\\\\products\\\\categories_utf.json\", \"w\") as outfile:\n",
    "    json.dump(categ_file, outfile)"
   ]
  },
  {
   "cell_type": "code",
   "execution_count": 33,
   "id": "787e4033",
   "metadata": {},
   "outputs": [],
   "source": [
    "country_destCSV = {'greatbritain': 'static\\\\web-assets\\\\data\\\\products\\\\forever_products_en_gb_small_utf.csv', 'unitedstates':'static\\\\web-assets\\\\data\\\\products\\\\forever_products_en_us_small_utf.csv', 'canada':'static\\\\web-assets\\\\data\\\\products\\\\forever_products_en_ca_small_utf.csv', 'australia':'static\\\\web-assets\\\\data\\\\products\\\\forever_products_en_au_small_utf.csv'}\n",
    "for country in country_destCSV.keys():\n",
    "    products = pd.read_csv(country_destCSV[country])\n",
    "    products['Video'] = ''\n",
    "    products.to_csv(country_destCSV[country], index=False)"
   ]
  },
  {
   "cell_type": "code",
   "execution_count": null,
   "id": "e172946b",
   "metadata": {},
   "outputs": [],
   "source": []
  }
 ],
 "metadata": {
  "kernelspec": {
   "display_name": "Python 3 (ipykernel)",
   "language": "python",
   "name": "python3"
  },
  "language_info": {
   "codemirror_mode": {
    "name": "ipython",
    "version": 3
   },
   "file_extension": ".py",
   "mimetype": "text/x-python",
   "name": "python",
   "nbconvert_exporter": "python",
   "pygments_lexer": "ipython3",
   "version": "3.10.8"
  }
 },
 "nbformat": 4,
 "nbformat_minor": 5
}
