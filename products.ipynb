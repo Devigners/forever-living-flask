{
 "cells": [
  {
   "cell_type": "code",
   "execution_count": 12,
   "metadata": {},
   "outputs": [],
   "source": [
    "import pandas as pd\n",
    "import json"
   ]
  },
  {
   "cell_type": "code",
   "execution_count": 25,
   "metadata": {},
   "outputs": [],
   "source": [
    "all_products = {}\n",
    "files = {'au': \"static\\\\web-assets\\\\data\\\\products\\\\forever_products_en_au_utf.csv\", \n",
    "             'us': \"static\\\\web-assets\\\\data\\\\products\\\\forever_products_en_us_utf.csv\",\n",
    "             'gb': \"static\\\\web-assets\\\\data\\\\products\\\\forever_products_en_gb_utf.csv\",\n",
    "             'ca': \"static\\\\web-assets\\\\data\\\\products\\\\forever_products_en_ca_utf.csv\"\n",
    "             }\n",
    "for file in files.keys():\n",
    "    df = pd.read_csv(files[file], encoding='utf-8')\n",
    "    all_products[file] = json.loads(df.to_json(orient='index'))\n"
   ]
  },
  {
   "cell_type": "code",
   "execution_count": 26,
   "metadata": {},
   "outputs": [],
   "source": [
    "\n",
    "with open(\"static\\\\web-assets\\\\data\\\\products\\\\all_products.json\", \"w\") as json_file:\n",
    "    json.dump(all_products, json_file)"
   ]
  },
  {
   "cell_type": "code",
   "execution_count": null,
   "metadata": {},
   "outputs": [],
   "source": []
  }
 ],
 "metadata": {
  "kernelspec": {
   "display_name": "venv",
   "language": "python",
   "name": "python3"
  },
  "language_info": {
   "codemirror_mode": {
    "name": "ipython",
    "version": 3
   },
   "file_extension": ".py",
   "mimetype": "text/x-python",
   "name": "python",
   "nbconvert_exporter": "python",
   "pygments_lexer": "ipython3",
   "version": "3.10.8"
  },
  "orig_nbformat": 4,
  "vscode": {
   "interpreter": {
    "hash": "d2f7a70e56e2f518b0d37d2ef1ca6274e5b2fad06e1a205e2f027ce3b3d5e2fa"
   }
  }
 },
 "nbformat": 4,
 "nbformat_minor": 2
}
